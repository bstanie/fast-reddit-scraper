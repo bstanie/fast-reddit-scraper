{
 "cells": [
  {
   "cell_type": "code",
   "execution_count": 16,
   "metadata": {},
   "outputs": [],
   "source": [
    "import json\n",
    "from itertools import groupby\n",
    "from collections import defaultdict\n",
    "import os\n",
    "import pandas as pd"
   ]
  },
  {
   "cell_type": "code",
   "execution_count": null,
   "metadata": {},
   "outputs": [],
   "source": []
  },
  {
   "cell_type": "code",
   "execution_count": 18,
   "metadata": {},
   "outputs": [
    {
     "name": "stdout",
     "output_type": "stream",
     "text": [
      "data/data_21-02-14.json\n"
     ]
    }
   ],
   "source": [
    "files = list(os.walk(\"data\"))[0][2]\n",
    "\n",
    "dfs = []\n",
    "\n",
    "for file in files:\n",
    "    file_path = f\"data/{file}\"\n",
    "    print(file_path)\n",
    "    with open(file_path,\"r\") as f:\n",
    "        raw_data = json.load(f)\n",
    "        data = []\n",
    "\n",
    "        for item in raw_data:\n",
    "            if type(item) == list:\n",
    "                data.extend(item)\n",
    "            else:\n",
    "                data.append(item)\n",
    "                \n",
    "    result = defaultdict(lambda: defaultdict(int))\n",
    "\n",
    "    for i in data:\n",
    "        keyword = i[\"keyword\"]\n",
    "        comments = i[\"num_comments\"]\n",
    "        if i[\"type\"] == \"posts\":\n",
    "            result[keyword][\"num_keyword_posts\"] += 1\n",
    "            result[keyword][\"num_comments\"] += comments\n",
    "        elif i[\"type\"] == \"comments\":\n",
    "            result[keyword][\"num_keyword_comments\"] += 1\n",
    "    df = pd.DataFrame(result).T\n",
    "    df[\"date\"] = file_path.split(\"_\")[1].split(\".\")[0]\n",
    "        \n",
    "    dfs.append(df)\n",
    "\n"
   ]
  },
  {
   "cell_type": "code",
   "execution_count": 19,
   "metadata": {},
   "outputs": [
    {
     "data": {
      "text/html": [
       "<div>\n",
       "<style scoped>\n",
       "    .dataframe tbody tr th:only-of-type {\n",
       "        vertical-align: middle;\n",
       "    }\n",
       "\n",
       "    .dataframe tbody tr th {\n",
       "        vertical-align: top;\n",
       "    }\n",
       "\n",
       "    .dataframe thead th {\n",
       "        text-align: right;\n",
       "    }\n",
       "</style>\n",
       "<table border=\"1\" class=\"dataframe\">\n",
       "  <thead>\n",
       "    <tr style=\"text-align: right;\">\n",
       "      <th></th>\n",
       "      <th>date</th>\n",
       "      <th>keyword</th>\n",
       "      <th>num_keyword_posts</th>\n",
       "      <th>num_comments</th>\n",
       "      <th>num_keyword_comments</th>\n",
       "    </tr>\n",
       "  </thead>\n",
       "  <tbody>\n",
       "    <tr>\n",
       "      <th>0</th>\n",
       "      <td>21-02-14</td>\n",
       "      <td>BTC</td>\n",
       "      <td>1343</td>\n",
       "      <td>6094</td>\n",
       "      <td>628</td>\n",
       "    </tr>\n",
       "    <tr>\n",
       "      <th>1</th>\n",
       "      <td>21-02-14</td>\n",
       "      <td>Bitcoin</td>\n",
       "      <td>2568</td>\n",
       "      <td>11768</td>\n",
       "      <td>709</td>\n",
       "    </tr>\n",
       "  </tbody>\n",
       "</table>\n",
       "</div>"
      ],
      "text/plain": [
       "       date  keyword  num_keyword_posts  num_comments  num_keyword_comments\n",
       "0  21-02-14      BTC               1343          6094                   628\n",
       "1  21-02-14  Bitcoin               2568         11768                   709"
      ]
     },
     "execution_count": 19,
     "metadata": {},
     "output_type": "execute_result"
    }
   ],
   "source": [
    "stat_df = pd.concat(dfs).reset_index().rename(columns={\"index\":\"keyword\"}).sort_values([\"keyword\",\"date\"])\n",
    "stat_df = stat_df[[\"date\",\"keyword\",\"num_keyword_posts\",\"num_comments\",\"num_keyword_comments\"]]\n",
    "stat_df"
   ]
  },
  {
   "cell_type": "code",
   "execution_count": 4,
   "metadata": {},
   "outputs": [],
   "source": [
    "stat_df.to_csv(\"reddit_crypto_stat.csv\",index=False)"
   ]
  },
  {
   "cell_type": "code",
   "execution_count": null,
   "metadata": {},
   "outputs": [],
   "source": []
  }
 ],
 "metadata": {
  "kernelspec": {
   "display_name": "Python 3",
   "language": "python",
   "name": "python3"
  },
  "language_info": {
   "codemirror_mode": {
    "name": "ipython",
    "version": 3
   },
   "file_extension": ".py",
   "mimetype": "text/x-python",
   "name": "python",
   "nbconvert_exporter": "python",
   "pygments_lexer": "ipython3",
   "version": "3.8.5"
  }
 },
 "nbformat": 4,
 "nbformat_minor": 4
}
